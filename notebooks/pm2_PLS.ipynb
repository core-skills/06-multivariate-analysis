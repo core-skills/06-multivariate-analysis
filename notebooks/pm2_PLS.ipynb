{
 "cells": [
  {
   "cell_type": "markdown",
   "metadata": {},
   "source": [
    "# Partial Least Squares (PLS) Regression\n",
    "- The principle of partial least squares is similar to PCA regression, i.e. to help with ill-conditioned problems.\n",
    "\n",
    "\n",
    "- Where PCA regression looks for uncorrelated components as a linear combination of the input variables only, PLS regression looks for linear combinations of the input variables AND tries to maximise the covariance between the input and output variables. \n",
    "\n",
    "\n",
    "- PLS Regression is a supervised alternative to PCA regression, making use of the targets vector (response vector)\n",
    "\n",
    "\n",
    "- This is useful when there are more variables than observations (many columns compared to rows), or collinearity between input variables "
   ]
  },
  {
   "cell_type": "markdown",
   "metadata": {},
   "source": [
    "## Exercise: Creating PLS models\n",
    "\n",
    "In this session we'll try to make a PLS model using the octane dataset.  The principles are the same as what we've done throughout today. We're going to take it in small steps.  Initially don't worry about cross-validation and just try to get some code working with a fixed number of components. We will eventually progress to using cross-validation to work out the best number of components to choose."
   ]
  },
  {
   "cell_type": "markdown",
   "metadata": {},
   "source": [
    "### 1) Import the required libraries\n",
    "\n",
    "PLSRegression is used like the other supervised learning models and is found in:\n",
    "\n",
    "```\n",
    "from sklearn.cross_decomposition import PLSRegression\n",
    "from sklearn import model_selection\n",
    "from sklearn.metrics import mean_squared_error\n",
    "```\n",
    "\n",
    "And don't forget numpy, pandas and matplotlib\n"
   ]
  },
  {
   "cell_type": "code",
   "execution_count": null,
   "metadata": {},
   "outputs": [],
   "source": []
  },
  {
   "cell_type": "markdown",
   "metadata": {},
   "source": [
    "###  2) Import the dataset. \n",
    "\n",
    "Import the Octane dataset into a dataframe. Use .head() to have a look at it"
   ]
  },
  {
   "cell_type": "code",
   "execution_count": null,
   "metadata": {},
   "outputs": [],
   "source": []
  },
  {
   "cell_type": "markdown",
   "metadata": {},
   "source": [
    "###  3) Train a model\n",
    "\n",
    "Separate the inputs and the outputs. Then train a model using a small number of components\n",
    "\n",
    "Use it like this for a given number of components:\n",
    "\n",
    "```\n",
    "model = PLSRegression(number_of_components)\n",
    "model.fit(X_training_data, y_training_data)\n",
    "```\n"
   ]
  },
  {
   "cell_type": "code",
   "execution_count": null,
   "metadata": {},
   "outputs": [],
   "source": []
  },
  {
   "cell_type": "markdown",
   "metadata": {},
   "source": [
    "### 4) Look at how the model changes as you change the number of components.\n",
    "\n",
    "i) Check the R-square value of the model"
   ]
  },
  {
   "cell_type": "code",
   "execution_count": null,
   "metadata": {},
   "outputs": [],
   "source": []
  },
  {
   "cell_type": "markdown",
   "metadata": {},
   "source": [
    "ii) Create a plot of fitted vs true value.\n",
    "\n",
    "Some options: matplotlib's ```plt.plot()``` or seaborn's ```sns.scatterplot()```, or seaborn's ```sns.regplot()```"
   ]
  },
  {
   "cell_type": "code",
   "execution_count": null,
   "metadata": {},
   "outputs": [],
   "source": []
  },
  {
   "cell_type": "markdown",
   "metadata": {},
   "source": [
    "iii) Create a score plot like you did in PCA using a loop over number of components. \n",
    "     Try between 1 to 20 components."
   ]
  },
  {
   "cell_type": "code",
   "execution_count": null,
   "metadata": {},
   "outputs": [],
   "source": []
  },
  {
   "cell_type": "markdown",
   "metadata": {},
   "source": [
    "iv) Find out how to look at the \"components\", called \"loading vectors\" in PLS jargon.  "
   ]
  },
  {
   "cell_type": "code",
   "execution_count": null,
   "metadata": {},
   "outputs": [],
   "source": []
  },
  {
   "cell_type": "markdown",
   "metadata": {},
   "source": [
    "v) Plot the component vectors"
   ]
  },
  {
   "cell_type": "code",
   "execution_count": null,
   "metadata": {},
   "outputs": [],
   "source": []
  },
  {
   "cell_type": "markdown",
   "metadata": {},
   "source": [
    "vi) (Optional) Plot the observations in the new component space. E.g., plot the observations using component 1 and 2 as the new axes. Try with component 2 and 3. Are there any possible clusters? Hint: See am2_dimreduction notebook for a similar example for PCA. "
   ]
  },
  {
   "cell_type": "code",
   "execution_count": null,
   "metadata": {},
   "outputs": [],
   "source": []
  },
  {
   "cell_type": "markdown",
   "metadata": {},
   "source": [
    "###  5) Use cross validation to determine the best number of components\n",
    "\n",
    "You can cross validate in multiple ways.  This may be the simplest:\n",
    "\n",
    "```\n",
    "kf_10 = model_selection.KFold(n_splits=10, shuffle=True, random_state=1)\n",
    "mse = []\n",
    "\n",
    "for idx in np.arange(1, 20):\n",
    "    model = PLSRegression(n_components= idx)\n",
    "    error_score = model_selection.cross_val_score(model, X_training_data,\n",
    "        y_training_data, cv=kf_10, scoring='neg_mean_squared_error').mean()\n",
    "    mse.append(error_score)\n",
    "    \n",
    "#plot the validation curve\n",
    "plt.plot(np.arange(1, 20), np.array(mse), '-v')\n",
    "plt.xlabel('Number of components for 10-fold CV')\n",
    "plt.ylabel('MSE')\n",
    "plt.title ('PLS Cross-validation')\n",
    "```\n"
   ]
  },
  {
   "cell_type": "code",
   "execution_count": null,
   "metadata": {},
   "outputs": [],
   "source": []
  }
 ],
 "metadata": {
  "kernelspec": {
   "display_name": "Python 3",
   "language": "python",
   "name": "python3"
  },
  "language_info": {
   "codemirror_mode": {
    "name": "ipython",
    "version": 3
   },
   "file_extension": ".py",
   "mimetype": "text/x-python",
   "name": "python",
   "nbconvert_exporter": "python",
   "pygments_lexer": "ipython3",
   "version": "3.8.13"
  },
  "varInspector": {
   "cols": {
    "lenName": 16,
    "lenType": 16,
    "lenVar": 40
   },
   "kernels_config": {
    "python": {
     "delete_cmd_postfix": "",
     "delete_cmd_prefix": "del ",
     "library": "var_list.py",
     "varRefreshCmd": "print(var_dic_list())"
    },
    "r": {
     "delete_cmd_postfix": ") ",
     "delete_cmd_prefix": "rm(",
     "library": "var_list.r",
     "varRefreshCmd": "cat(var_dic_list()) "
    }
   },
   "types_to_exclude": [
    "module",
    "function",
    "builtin_function_or_method",
    "instance",
    "_Feature"
   ],
   "window_display": false
  }
 },
 "nbformat": 4,
 "nbformat_minor": 4
}
